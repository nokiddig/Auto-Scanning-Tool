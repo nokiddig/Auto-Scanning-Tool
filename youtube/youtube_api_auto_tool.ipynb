{
 "cells": [
  {
   "cell_type": "markdown",
   "metadata": {},
   "source": [
    "### Get link"
   ]
  },
  {
   "cell_type": "markdown",
   "metadata": {},
   "source": [
    "Doc: https://developers.google.com/youtube/v3/docs/search/list?hl=vi"
   ]
  },
  {
   "cell_type": "code",
   "execution_count": 1,
   "metadata": {},
   "outputs": [],
   "source": [
    "import certifi\n",
    "certifi.where()\n",
    "cert_path = certifi.where()"
   ]
  },
  {
   "cell_type": "markdown",
   "metadata": {},
   "source": [
    "### Logger"
   ]
  },
  {
   "cell_type": "code",
   "execution_count": 2,
   "metadata": {},
   "outputs": [],
   "source": [
    "with open('../common/logger.py') as f:\n",
    "    exec(f.read())\n",
    "\n",
    "logger = get_logger(name='youtube')\n",
    "logger.info('Start crawl youtube')"
   ]
  },
  {
   "cell_type": "markdown",
   "metadata": {},
   "source": [
    "### Import"
   ]
  },
  {
   "cell_type": "code",
   "execution_count": 3,
   "metadata": {},
   "outputs": [],
   "source": [
    "from selenium import webdriver\n",
    "from selenium.webdriver.common.by import By\n",
    "from selenium.webdriver.common.keys import Keys\n",
    "from selenium.common.exceptions import NoSuchElementException\n",
    "\n",
    "import os\n",
    "import importlib.util\n",
    "from time import sleep\n",
    "\n",
    "import warnings\n",
    "warnings.filterwarnings('ignore')\n",
    "TAG = 'YOUTUBE'"
   ]
  },
  {
   "cell_type": "code",
   "execution_count": 4,
   "metadata": {},
   "outputs": [],
   "source": [
    "def get_module(module_name, file_name):\n",
    "    name = file_name.split('.')[0]\n",
    "\n",
    "    module_path = os.path.join(os.getcwd(), '..', module_name, file_name)\n",
    "    spec = importlib.util.spec_from_file_location(name, module_path)\n",
    "    module = importlib.util.module_from_spec(spec)\n",
    "    spec.loader.exec_module(module)\n",
    "    return module"
   ]
  },
  {
   "cell_type": "code",
   "execution_count": 5,
   "metadata": {},
   "outputs": [],
   "source": [
    "variable_module = get_module('internal', 'variable.py')\n",
    "API_KEY = variable_module.API_KEY"
   ]
  },
  {
   "cell_type": "markdown",
   "metadata": {},
   "source": [
    "### Get youtube search api"
   ]
  },
  {
   "cell_type": "code",
   "execution_count": 6,
   "metadata": {},
   "outputs": [],
   "source": [
    "# limit time query\n",
    "from datetime import datetime\n",
    "from dateutil.relativedelta import relativedelta\n",
    "\n",
    "def get_previous_date(month, day):\n",
    "    today = datetime.now()\n",
    "\n",
    "    # divide date\n",
    "    previous_month_date = today - relativedelta(months=month, days=day)\n",
    "\n",
    "    # Convert to require config \"YYYY-MM-DDTHH:MM:SSZ\"\n",
    "    formatted_date = previous_month_date.strftime(\"%Y-%m-%dT%H:%M:%SZ\")\n",
    "\n",
    "    return formatted_date\n"
   ]
  },
  {
   "cell_type": "code",
   "execution_count": 7,
   "metadata": {},
   "outputs": [],
   "source": [
    "# URL for API YouTube\n",
    "import requests\n",
    "API_URL = 'https://www.googleapis.com/youtube/v3/search'\n",
    "\n",
    "def search_youtube(query, before, after):\n",
    "    params = {\n",
    "        'q': query,\n",
    "        'part': 'snippet',\n",
    "        'type': 'video',\n",
    "        'order': 'date',\n",
    "        'publishedBefore': before,\n",
    "        'publishedAfter': after,\n",
    "        'maxResults': 50,\n",
    "        'key': API_KEY\n",
    "    }\n",
    "    \n",
    "    response = requests.get(API_URL, params=params, verify=False)\n",
    "    response.raise_for_status()  # Raise an exception for HTTP errors\n",
    "    \n",
    "    items = response.json()['items']\n",
    "    return items"
   ]
  },
  {
   "cell_type": "code",
   "execution_count": 8,
   "metadata": {},
   "outputs": [],
   "source": [
    "try:\n",
    "    query = \"samsung+kg+mdm+unlock\"\n",
    "    before_date = get_previous_date(month=0, day=0) # end\n",
    "    after_date = get_previous_date(month=1, day=0) # start\n",
    "\n",
    "    search_result = search_youtube(query= query, before=before_date, after=after_date)\n",
    "\n",
    "    \n",
    "    logger.info(f'Search youtube api success with {len(search_result)} videos')\n",
    "except Exception as e:\n",
    "    logger.error(f'Youtube search api err: {e}')"
   ]
  },
  {
   "cell_type": "code",
   "execution_count": 9,
   "metadata": {},
   "outputs": [],
   "source": [
    "video_ids = []\n",
    "try:\n",
    "    video_ids = [item['id']['videoId'] for item in search_result]\n",
    "except Exception as e:\n",
    "    logger.error(f'Youtube search json: {e}')"
   ]
  },
  {
   "cell_type": "markdown",
   "metadata": {},
   "source": [
    "### Get youtube video data API"
   ]
  },
  {
   "cell_type": "code",
   "execution_count": 10,
   "metadata": {},
   "outputs": [],
   "source": [
    "# get video id\n",
    "from urllib.parse import urlparse, parse_qs\n",
    "\n",
    "def get_video_id(url):\n",
    "    parsed_url = urlparse(url)\n",
    "    query_params = parse_qs(parsed_url.query)\n",
    "    return query_params.get('v', [None])[0]"
   ]
  },
  {
   "cell_type": "code",
   "execution_count": 11,
   "metadata": {},
   "outputs": [],
   "source": [
    "import json\n",
    "\n",
    "def prinJson(data):\n",
    "    formatted_json = json.dumps(data, indent=4, ensure_ascii=False)\n",
    "    print(formatted_json)"
   ]
  },
  {
   "cell_type": "code",
   "execution_count": 12,
   "metadata": {},
   "outputs": [],
   "source": [
    "COL_TYPE = 'Type'\n",
    "COL_LINK = 'Link'\n",
    "COL_TITLE = 'Title'\n",
    "COL_PUBLISHED = 'Published at'\n",
    "COL_DES = 'Short description'\n",
    "COL_CONTENT = 'Web content'\n",
    "COL_SUMMARY = 'Summary'"
   ]
  },
  {
   "cell_type": "code",
   "execution_count": 13,
   "metadata": {},
   "outputs": [],
   "source": [
    "import requests\n",
    "# requests.packages.urllib3.util.ssl_.DEFAULT_CIPHERS = 'ALL:@SECLEVEL=1'\n",
    "\n",
    "# URL for API YouTube\n",
    "API_URL_VIDEO_INFO = 'https://www.googleapis.com/youtube/v3/videos'\n",
    "\n",
    "def get_video_info(video_id):\n",
    "    params = {\n",
    "        'part': 'snippet,contentDetails,statistics',\n",
    "        'id': video_id,\n",
    "        'key': API_KEY\n",
    "    }\n",
    "    \n",
    "    response = requests.get(API_URL_VIDEO_INFO, params=params, verify=False)\n",
    "    response.raise_for_status()  # Raise an exception for HTTP errors\n",
    "    \n",
    "    video_info = response.json()['items'][0]\n",
    "    return video_info\n",
    "\n",
    "def get_data(link, video_info):\n",
    "    title = video_info['snippet']['title']\n",
    "    description = video_info['snippet']['description']\n",
    "    published_at = video_info['snippet']['publishedAt']\n",
    "    res = {\n",
    "        COL_TYPE: 'youtube',\n",
    "        COL_LINK: link,\n",
    "        COL_PUBLISHED: published_at,\n",
    "        COL_TITLE: title,\n",
    "        COL_DES: description\n",
    "    }\n",
    "    return res"
   ]
  },
  {
   "cell_type": "code",
   "execution_count": 14,
   "metadata": {},
   "outputs": [],
   "source": [
    "#ignore title\n",
    "ignore_word = [\"T Mobile\", \"US Cellular\", \"Sprint USA\", \"Unlock Service\", \"Xfinity USA\", \"Cricket USA\", \"FRP\", \"Boost USA\", \"Verizon USA\", \"Spectrum\", \"Lost mode\", \"Huawei\",\n",
    "                   \"Xiaomi\", \"screen lock\", \"TFN\", \"iphone\", \"icloud\"]\n",
    "def checkContain(title):\n",
    "    title = title.lower()\n",
    "    for word in ignore_word:\n",
    "        if word.lower() in title:\n",
    "            return True\n",
    "    else:\n",
    "        return False"
   ]
  },
  {
   "cell_type": "code",
   "execution_count": 15,
   "metadata": {},
   "outputs": [
    {
     "name": "stdout",
     "output_type": "stream",
     "text": [
      "1 Samsung a035f kg lock | #shorts #shortvideo #samsung #realmefrpunlocknewtrick2022 #factoryresetphone\n",
      "6 PL Tool V1.0  Qualcomm Samsung Unlock Tool  FRP, MDM, KG, Screenlock  Remove\n",
      "19 S21 FE 5G Finance Plus 2024/Samsung Frp Bypass/New Security ADB Enable 2024_Samsung Finance Unlock\n",
      "24 iPhone iCloud, Erase Frp,Factory Reset, Bootloader, kg,MDM, imei Repair With Griffin Unlocker\n",
      "30 TSM Pro Tool Activation - Samsung KG lock MDM FRP Remove Xiaomi LG Huawei more\n",
      "31 SAMSUNG A15  KG LOCKED FRP ON MDM KG BYPASS ALL BINARY\n",
      "34 Gsm Power tool / Samsung Frp Remove Tool Android Version 12/13/14\n",
      "35 Samsung KG & MDM Reset | Restore imei ,Erase FRP,Format Safe Bootloader Unlock TSM Tool One Click\n"
     ]
    }
   ],
   "source": [
    "data = []\n",
    "try:\n",
    "    for i, video_id in enumerate(video_ids):\n",
    "        video_info = get_video_info(video_id)\n",
    "        link = f\"https://www.youtube.com/watch?v={video_id}\"\n",
    "        data_row = get_data(link, video_info)\n",
    "        title = data_row[COL_TITLE]\n",
    "        if checkContain(title = title):\n",
    "            data.append(data_row)\n",
    "            print (f'{i} {data_row[COL_TITLE]}')\n",
    "    logger.info(f'Get video info success')\n",
    "except Exception as e:\n",
    "    logger.error(f'Get video info err: {e}')"
   ]
  },
  {
   "cell_type": "markdown",
   "metadata": {},
   "source": [
    "### GENAI"
   ]
  },
  {
   "cell_type": "code",
   "execution_count": 16,
   "metadata": {},
   "outputs": [],
   "source": [
    "genai_module = get_module('common', 'genai.py')\n",
    "Genai = genai_module.Genai"
   ]
  },
  {
   "cell_type": "code",
   "execution_count": 17,
   "metadata": {},
   "outputs": [
    {
     "name": "stdout",
     "output_type": "stream",
     "text": [
      "Open list conversation\n"
     ]
    }
   ],
   "source": [
    "genai = Genai()"
   ]
  },
  {
   "cell_type": "code",
   "execution_count": 18,
   "metadata": {},
   "outputs": [
    {
     "name": "stdout",
     "output_type": "stream",
     "text": [
      "Fail\n",
      "0. -----------------------------\n",
      "Fail\n",
      "1. -----------------------------\n",
      "Fail\n",
      "2. -----------------------------\n",
      "Fail\n",
      "3. -----------------------------\n",
      "Fail\n",
      "4. -----------------------------\n",
      "Fail\n",
      "5. -----------------------------\n",
      "Fail\n",
      "6. -----------------------------\n",
      "Fail\n",
      "7. -----------------------------\n"
     ]
    }
   ],
   "source": [
    "for i, row in enumerate(data):\n",
    "    try:\n",
    "        summary  = genai.search(row[COL_DES])\n",
    "        print(summary)\n",
    "        print(f\"{i}. -----------------------------\")\n",
    "        row[COL_SUMMARY] = summary\n",
    "\n",
    "    except Exception as e:\n",
    "        logger.error(f'Query genai fail: {e}')\n",
    "        row[COL_SUMMARY] = ''"
   ]
  },
  {
   "cell_type": "markdown",
   "metadata": {},
   "source": [
    "### Save data"
   ]
  },
  {
   "cell_type": "code",
   "execution_count": 19,
   "metadata": {},
   "outputs": [
    {
     "data": {
      "text/plain": [
       "[{'Type': 'youtube',\n",
       "  'Link': 'https://www.youtube.com/watch?v=wAb_ZqDnDLE',\n",
       "  'Published at': '2024-10-02T12:54:17Z',\n",
       "  'Title': 'Samsung a035f kg lock | #shorts #shortvideo #samsung #realmefrpunlocknewtrick2022 #factoryresetphone',\n",
       "  'Short description': 'Samsung kg lock | all Samsung Android 14 kg unlock | Samsung a23 5g kg unlock | Samsung a236e u7 kg #samsung #frplock #how #mobilephone #mobilesolution #realme #realmemobiles #samsungmobile #security #umt \\nJoin my group \\nhttps://chat.whatsapp.com/Hlt1pDpVHqg6eJb1NOiBgJ\\nTelegram \\nhttps://t.me/Ajaytechnicalsoftwearsolution\\nfrplock #how #mobilephone #mobilesolution #realme #realmemobiles #samsung #samsungmobile #security #umt\\nMDM fix tool Samsung Android 14 kg Remove✅ All CPU support ✅ QC MTK Exynos Spd Mdm fix tool 2024 kg #samsung\\u200b #mdm\\u200b #androidphone\\u200b #tech\\u200b #frp\\u200b #frpbypass\\u200b #repai\\u200b #samsunggalaxy\\u200b #vivo\\u200b #frpsolution\\u200b\\n#samsung\\u200b #vivoy16frpbypassandroid12\\u200b #mdm\\u200b #tech\\u200b #frp\\u200b #androidphone\\u200b #mdmfixtool\\u200b #mdm\\u200b \\n#Samsung\\u200b A03s  KG Parmanent remove, Samsung A135f Kg Lock remove parmanent #MDM\\u200b without credit 2024 \\nSamsung F12 KG Lock Remove Permanently with credit SM F127G ASamsung KG Lock remove 2024 Finance MDM\\nSamsung A34 5g KG Lock Remove Permanently without credit - SM-A34 Samsung KG Lock remove 2024 Finance\\nSamsung KG Lock Remove Permanently without credit - Samsung KG Lock remove\\nsamsung finance lock,\\nsamsung finance lock remove,\\n#samsung\\u200b finance lock unlock tool,\\nsamsung finance lock remove tool,\\nsamsung finance lock bypass,\\nsamsung finance lock malayalam,\\nsamsung finance lock ko kaise kholen,\\nsamsung finance lock solution,\\nsamsung finance lock remove umt,\\nsamsung finance lock unlock kaise kare,\\nsamsung finance lock kaise tode,\\nsamsung a23 finance lock kaise tode,\\nsamsung a13 finance lock kaise tode,\\nsamsung a12 finance lock unlock tool,\\nsamsung a135f finance lock remove,\\nsamsung a13 finance lock remove,\\nsamsung a03s finance lock remove,\\nsamsung a13 finance lock,\\nsamsung a53 finance lock,\\nsamsung a13 finance lock unlock tool,\\nsamsung a53 finance lock bypass,\\nsamsung a13 samsung finance lock remove,\\nsamsung a14 5g finance lock kaise tode,\\nhow to pay samsung finance emi after lock,\\nsamsung a13 ka finance lock kaise tode,\\nsamsung a14 5g ka finance lock kaise tode,\\nsamsung bajaj finance lock kaise tode,\\nsamsung a12 finance lock bypass,\\nsamsung finance plus lock bypass,\\nsamsung a13 finance lock bypass,\\nsamsung a135f finance lock remove ufi box,\\nsamsung a23 bajaj finance lock kaise tode,\\nhow to break samsung finance lock,\\nhow to bypass samsung finance lock,\\nhow to bypass samsung finance plus lock,\\nsamsung finance lock crack,\\nsamsung a03 core finance lock,\\nsamsung a03 core finance lock unlock tool,\\nsamsung finance company ka lock kaise tode,\\ndmi finance samsung lock open,\\nsamsung dmi finance ka lock kaise tode,\\nsamsung finance plus lock remove without emi pay,\\nsamsung finance plus emi lock kaise tode,\\nsamsung emi finance lock malayalam\\nsamsung emi finance lock,\\nhow to remove samsung finance plus lock without paying emi,\\nhow to unlock samsung finance lock without paying emi,\\nhow to pay samsung finance emi after lock malayalam,\\nhow to pay samsung finance emi after lock telugu,\\nsamsung s20 fe 5g finance lock,\\nsamsung f13 finance lock kaise tode,\\nsamsung f41 finance lock remove,\\nsamsung galaxy finance lock kaise tode,\\nsamsung galaxy a13 ka finance lock kaise tode,\\nsamsung galaxy a33 finance lock kaise tode,\\nsamsung galaxy ka finance lock kaise tode,\\nsamsung galaxy a22 finance lock kaise tode,\\nsamsung galaxy a13 finance lock,\\nhow to unlock samsung finance lock without payment,\\n samsung,\\nsamsung finance lock kaise toda jata hai,\\nsamsung finance ka lock kaise toda jata hai,\\nsamsung finance lock kaise tutata hai,\\nsamsung finance lock kaise,\\nsamsung finance ka lock kaise tutata hai,\\nsamsung finance ka lock todna,\\nsamsung finance plus ka lock kaise tode,\\nsamsung finance lock mdm lock bypass,\\nsamsung finance lock mobile,\\nsamsung kg lock remove android 14,samsung android 14 kg lock remove,samsung,samsung a14 5g,samsung kg unlock android 14 free tool by google chacha,samsung kg lock android 14,samsung android 14 kg lock,samsung android 14 edb enble,samsung galaxy a14,samsung oem enable android 14,samsung android 14 frp remove,samsung android 14 frp bypass,samsung a14,samsung android 14 kg lock all btt,samsung a15 frp bypass android 14,samsung a15 frp unlock android 14samsung finance plus unlock,samsung finance lock,samsung finance lock unlock,samsung finance plus unlock kaise kare,samsung finance lock kaise tode,samsung finance lock bypass,samsung mobile finance lock,samsung finance unlock,samsung kg lock,samsung kg lock bypass,samsung kg lock remove,how to unlock samsung finance plus lock,finance lock,how to remove samsung finance lock,samsung finance unlock umt,samsung finance plus bypass\\nsamsung kg lock remove,samsung finance plus unlock,samsung finance lock,samsung kg lock remove android 14,samsung finance plus remove 2023,all samsung kg lock remove,samsung kg lock remove 2023,samsung android 14 kg lock remove,samsung finance lock unlock,samsung kg lock,samsung finance lock remove,how to unlock samsung finance plus lock,samsung a13 kg lock remove unlock tool,samsung finance lock bypass,samsung finance lock kaise tode',\n",
       "  'Summary': 'Fail'},\n",
       " {'Type': 'youtube',\n",
       "  'Link': 'https://www.youtube.com/watch?v=eD3emCE3Z3Y',\n",
       "  'Published at': '2024-09-27T11:37:43Z',\n",
       "  'Title': 'PL Tool V1.0  Qualcomm Samsung Unlock Tool  FRP, MDM, KG, Screenlock  Remove',\n",
       "  'Short description': '#mobilesoftwareSolution\\nPL Tool V1.0  Qualcomm Samsung\\n Unlock Tool  FRPMDMKG, Screenlock  Remove\\nunlock tool crack\\nunlock tool crack 2022\\nhow to setup tft unlock tool freely\\nunlock tool\\nhow to install tft unlock tool\\ntft unlock tool included models\\nunlock tool latest setup\\nhow to use tft unlock tool\\nsamsung a13 frp bypass tool\\numt tool new update samsung\\nsamsung\\nsamsung a13 frp bypass talkback not working\\nmobile tools,software tools\\nhardware tools\\nsamsung a13 frp bypass latest version\\nsamsung a13 frp bypass enable adb failed\\nsamsung frp unlock\\nsamsung frp tool\\nunlock tool\\nsamsung frp unlock 2024\\nsamsung frp tool 2024\\nsamsung frp\\nsamsung frp bypass\\nsamsung unlock\\nsamsung frp bypass tool\\nsamsung,samsung one click frp tool\\nsamsung frp bypass 2024\\nunlock tool free\\nfrp all samsung adb method\\nbmb unlock tool qualcomm module\\ntft unlock tool qualcomm module 2024\\neasy samsung frp tool\\nqualcomm snapdragon frp unlock\\nsamsung a51 frp unlock tool\\nGet this tool 👇\\nhttps://gsmsoftwarehub.blogspot.com/2024/08/pl-tool-10-free-download-latest-version.html\\n\\n\\n\\n\\n\\nDisclaimer\\nThis Video is Only For Educational purpose, This Video is not made for doing any illegal activities, All Contents provided by this channel is only and only for Educational purpose, Please do not miss-use of any content from this video.\\n\\nCopyright Disclaimer under section 107 of the Copyright Act of 1976, allowance is made for “fair use” for purposes such as criticism, comment, news reporting, teaching, scholarship, Programing Language, Mobile Software Solution, education, and research. Fair use is a use permitted by copyright statute that might otherwise be infringing.',\n",
       "  'Summary': 'Fail'},\n",
       " {'Type': 'youtube',\n",
       "  'Link': 'https://www.youtube.com/watch?v=vl6fVCET49o',\n",
       "  'Published at': '2024-09-21T12:00:16Z',\n",
       "  'Title': 'S21 FE 5G Finance Plus 2024/Samsung Frp Bypass/New Security ADB Enable 2024_Samsung Finance Unlock',\n",
       "  'Short description': 'Samsung Finance Plus 2023/Samsung Frp Bypass/New Security ADB Enable 2023_Samsung Finance Unlock\\n\\n\\nSamsung A05s Kg mdm Unlock Permanent New Secusirty Via Usb Cable Only Free tool | New Security Kg\\n\\nIn This video you will watch get helpful\\nPlease:\\nLike,Share,Comment\\nFor More Videos Subcribed My Channel    \\n\\n@gsmking786 \\n#samsung \\n#samsung_kg \\n#samsung_frp_bypass_android_14 \\n#gsmking\\n#finance \\n#samsung_mdm\\n                        . . . .  NOTE......\\n\\n\\n\\nAnyone who wants this command should share the whatsapp number in the comment\\n\\nIf You Contact me So join Our Telegram Group also Here also Provide many free Tools and Many Files And Many More Solution I also Provide Online Service Like\\n👉Unlocking\\n👉Flashing\\n👉Frp Removing\\n👉Imei Repair\\n👉Tools Sharing\\n👉ICloud Remove \\n👉Apple Unlock \\nAnd Many More\\n\\nGroup Link : telegram(gsmking0977)\\n\\n                               WARNING:\\n\\nJust for Education purpose\\nnote IMEI change is illegal do all it on your own risk\\n                                          DISCLAIMER:\\nChanging of IMEI is illegal in some Countries\\nI will not be held responsible for any illegal ACTS \\n caused by viewer/visitors of this video. \\nAccording to the Digital Millennium CopyRight Act its illegal\\nRemember to write down your original IMEI number and keer it SAFE.\\nAlso, backup your original IMEI in-case anything goes wrong, Then revert using the above procedures for CHANGING........\\n\\n#mdm \\n#mdmfixtool\\n#kg \\n#samsung \\n#finance                                             \\n#it_admin\\n#samsung_kg\\n\\n                                         \"GSMKING \"\\n\\n🤫 *ALL BRANDS FINANCE LOCK ORDER ACCEPT PERMANENT & BYPASS*\\n\\n*ORDER ALL OVER WORLD ACCEPT* 🙂\\n\\nPAYMENT METHOD.\\nBINANCE PAY \\nINDIAN PAY\\nPAKISTAN PAY\\n\\nUnlock tool \\nDft pro\\nPandora latest\\nChimera Both\\nMdm Fix\\nZ3X\\nCm2 v2.51\\nOctoplus all\\nAvenger\\nGc Pro\\nTfm tool\\n\\nAll tool Availavle for rent in Low Price😜\\n\\nActivation and Working Service available also\\n\\nContact Me\\n\\nKg Mdm It admin also remove Permenant and Bypass\\n#samsung \\n#samsung_kg \\n#samsung_frp_bypass_android_14',\n",
       "  'Summary': 'Fail'},\n",
       " {'Type': 'youtube',\n",
       "  'Link': 'https://www.youtube.com/watch?v=CSPtp0KuDQ4',\n",
       "  'Published at': '2024-09-18T17:59:28Z',\n",
       "  'Title': 'iPhone iCloud, Erase Frp,Factory Reset, Bootloader, kg,MDM, imei Repair With Griffin Unlocker',\n",
       "  'Short description': \"iPhone iCloud, Erase Frp,Factory Reset, Bootloader Unlock, kg unlock,mdm unlock,imei Repair With Griffin Unlocker Preload Auth FREE.\\nIf Yoi Need this Tool Watch full video to get Griffin Unlocker Latest Version life time FREE Update. \\n\\nGriffin Unlocker Is Powerful GSM Software Tool You can easily Unlock iCloud, Reset frp Lock, Password Unlock, Bootloader Unlock, Original imei repair, Flashing etc All  Android Mobile devices without Box. \\n\\nAll iPhone,iPads iCloud bypass Tool. \\nVivo frp bypass 2024 new Security Preload Authentication. \\nOppo Password Unlock Meta Mode. \\nHuawei frp and Huawei I'd Remove. \\nTecno/ infinix MDM Lock Unlock. \\nSamsung Galaxy new Security frp bypass. \\nAll SPd Android Mobile devices frp or factory Reset with Griffin Unlocker tool.\\nAll Mediatek CPU Type Android Mobile devices frp ,Password Unlock without data Lose. \\nAll Spd Android Mobile devices Supported for frp Unlock and Flashing new Security Base Update. \\n\\n#griffinunlocker #frpunlocktool #passwordreset #bunertech\",\n",
       "  'Summary': 'Fail'},\n",
       " {'Type': 'youtube',\n",
       "  'Link': 'https://www.youtube.com/watch?v=seq09jc98k8',\n",
       "  'Published at': '2024-09-17T17:35:32Z',\n",
       "  'Title': 'TSM Pro Tool Activation - Samsung KG lock MDM FRP Remove Xiaomi LG Huawei more',\n",
       "  'Short description': 'https://www.asunlocker.com\\nWhatsApp: +8801721672766\\nhttps://t.me/asunlocker\\nhttps://fb.com/groups/asunlocker\\nFree Firmware , Box dongle buy https://www.asfirmware.com\\n\\njoin Whatsapp group\\nhttps://chat.whatsapp.com/LgsrLzmqjxIDqVpUVzT4Ly\\n\\njoin whatsapp channel\\nhttps://www.whatsapp.com/channel/0029VafXUAw0bIdgrbw1rF3I\\n\\n\\nSamsung FRP Remove any model\\nhttps://youtu.be/9yNM4z6GNWA\\n\\nTeno Infinix MDM Remove solution\\nhttps://youtu.be/vBjDj2ZIKcg\\n\\nXiaomi Mi Account lock remove\\nhttps://youtu.be/QVN-a4PyGyo\\n\\nXiaomi FRP Remove any model\\nhttps://youtu.be/bGvJ7q9WHOA\\n\\nFree iCloud Bypass tutorial\\nhttps://youtu.be/Ix3ohHSnR0k\\n\\niHello HFZ tool iCloud Bypass\\nhttps://youtu.be/-MvKuRW6HDc\\n\\nNokia HMD Screen lock , FRP Remove , Flash \\nhttps://youtu.be/oRTjMBdDdJ8\\nhttps://youtu.be/oRTjMBdDdJ8\\n\\nunlock tool Activation\\nhttps://youtu.be/0GeECubQihE\\n\\nZ3X pandora Activation 1  year no need box dongle \\nhttps://youtu.be/Q2IRG2vPbu0\\n\\nDFT Pro Activation and features ( no need box dongle )\\nhttps://youtu.be/QXwlGDI0TzM\\nhttps://youtu.be/dBMbtvldhKM\\n\\niPhone ios 15/16 iCloud bypass sim working \\nhttps://youtu.be/P5egHdoOBN8\\n\\nSamsung FRP remove , samsung account remove \\nhttps://youtu.be/ZtsgnaHP3cs\\nhttps://youtu.be/7kz_Wk8p6Og\\n\\nCF Tool Activation\\nhttps://youtu.be/zRmegDxR3uI\\n\\nNokia Screen lock+ FRP remove \\nhttps://youtu.be/3PKBWbW3PXc\\n\\nOnePlus Screen lock, FRP, Demo remove, flash \\nhttps://youtu.be/ob0zN0r8WvE\\n\\noppo screen lock, FRP, Demo remove , Flash \\nhttps://youtu.be/5iwzPp_bNqY\\n\\nMEID iPhone iCloud bypass SIM working\\nSupport: 5s To X all Model \\nhttps://youtu.be/t5T4CRCherE\\n\\niPhone Jailbreak Without Mac by Windows\\nhttps://youtu.be/nQsK6XFFMJo\\n\\niPhone 6+ iCloud bypass SIM Working\\nhttps://youtu.be/t5T4CRCherE\\n\\nSamsung Remove Tool SAMHub Tool\\nhttps://youtu.be/inuLhL3xDVA\\n\\nsamsung frp / google account unlock \\nhttps://youtu.be/kxEQl-nSYQw\\n\\nsamsung network unlock \\nhttps://youtu.be/-yI_P5Ap_WU\\n\\noppo network unlock \\nhttps://youtu.be/H1aZJoyHmaM\\n\\nhuawei frp \\nhttps://youtu.be/E0b0cv0tNAI\\nhttps://youtu.be/ka-l5Osa9p4\\n\\niphone network unlock \\nasunlocker.com\\nhttps://www.youtube.com/watch?v=DBvY-tuT9eQ\\n\\niphone icloud bypass \\nhttps://youtu.be/a_B4KatAOD0\\n\\niphone icloud remove password lock /disable phone \\nhttps://youtu.be/iZw-OSZfOCQ\\n\\nMEID iCloud Bypass\\nhttps://youtu.be/Vn8-06Ocgyg\\n\\niPhone SIM Not Valid Solution\\nhttps://youtu.be/BIdZaeSAyZg\\n\\niPhone Jailbreak 14.4\\nhttps://youtu.be/c4VtX4VCjwM\\n\\niCloud bypass free\\nhttps://youtu.be/Geo-61rHcGY\\n\\niphone icloud remove open menu set proxy and inform me \\nhttps://youtu.be/22sTkOg88Cs\\n\\n\\nhttps://www.asunlocker.com\\nWhatsApp: +8801721672766\\nhttps://t.me/asunlockerupdate\\nhttps://www.whatsapp.com/channel/0029VafXUAw0bIdgrbw1rF3I\\nhttps://chat.whatsapp.com/LgsrLzmqjxIDqVpUVzT4Ly\\nfacebook.com/groups/asunlocker',\n",
       "  'Summary': 'Fail'},\n",
       " {'Type': 'youtube',\n",
       "  'Link': 'https://www.youtube.com/watch?v=EaEr_-MwwW0',\n",
       "  'Published at': '2024-09-17T13:04:25Z',\n",
       "  'Title': 'SAMSUNG A15  KG LOCKED FRP ON MDM KG BYPASS ALL BINARY',\n",
       "  'Short description': 'EPATELETECH is exerting visit to view and learn knowledge\\nDownload Tool here https://epateletech.com/2024/09/14/samsung-a15-a155f-u2-mdm-bypass/',\n",
       "  'Summary': 'Fail'},\n",
       " {'Type': 'youtube',\n",
       "  'Link': 'https://www.youtube.com/watch?v=OqIo2oRnSL0',\n",
       "  'Published at': '2024-09-16T16:03:25Z',\n",
       "  'Title': 'Gsm Power tool / Samsung Frp Remove Tool Android Version 12/13/14',\n",
       "  'Short description': \"Gsm Power tool / Samsung Frp Remove Tool Android Version 12/13/14 \\n\\ntool  https://shorturl.at/jx44b\\n\\n\\nUnlock your Samsung device effortlessly with our comprehensive guide on using the Samsung FRP Bypass Tool for Android versions 12, 13, and 14. In this video, we will walk you through the step-by-step process to seamlessly remove FRP (Factory Reset Protection) from your Samsung smartphone or tablet. Whether you’ve forgotten your Google account credentials or purchased a second-hand device that’s locked, this tool is your solution for bypassing FRP quickly and efficiently. \\n\\nWhat you'll learn in this video:\\n- Overview of the Samsung FRP Bypass Tool\\n- Compatibility with Android 12, 13, and 14\\n- Detailed instructions on how to use the tool\\n- Troubleshooting tips for common issues\\n- Safety precautions to take during the process\\n\\nDon’t let FRP lock hinder your access to your device. Watch now and regain control of your Samsung device in no time! Remember to subscribe for more helpful tech tutorials and tips. \\nsamsung kg lock bypass\\nsamsung frp bypass\\nsamsung kg lock\\nkg lock\\nsamsung finance lock\\nsamsung\\nsamsung kg lock remove\\nsamsung finance plus unlock\\nsamsung kg lock unlock\\nsamsung kg locked unlock tool\\ngriffin-unlocker\\nsamsung frp\\nsamsung android 13 frp bypass\\nsamsung finance unlock\\nsamsung frp bypass 2024\\na032f kg lock\\nsamsung frp tool\\nhow to remove kg lock\\nkg lock bypass\\nsamsung kg lock remove adb\\nsamsung finance lock unlock\\nunlock kg samsung\\nmdm lock\\nbypass samsung kg lock\\nremove kg samsung qualcomm\\nsamsung a13 kg lock remove unlock tool\\nsamsung android 14 frp bypass\\nsamsung frp bypass *#0*# not working\\nsamsung frp bypass tool\\nsamsung mdm lock bypass\\nufixer\\nsamsung frp remove 2024\\nkg samsung\\nkg status locked 01\\nkg status active 01\\nsamsung mdm lock\\nsamsung frp remove\\nsamsung frp bypass adb enable fail\\nsamsung frp enable adb failed\\nsamsung frp unlock\\nsamsung frp unlock 2024\\nsamsung knox security\\nsamsung enable adb qr code\\nsamsung new frp tool 2024\\nsamsung a13 kg lock bypass\\nsamsung frp 2024 adb not enable\\nfrp samsung bypass new security 2024\\nsamsung android 13 frp bypass enable adb fail\\nbypass frp lock\\nqr code generator frp\\n\\nsamsung frp bypass 2024,samsung android 13 frp bypass,samsung frp bypass,samsung android 14 frp bypass,samsung frp tool 2024,samsung frp bypass 2024 adb enable fail,samsung frp bypass 2024 android 14,samsung frp remove 2024,samsung frp tool,samsung frp bypass adb enable fail,samsung frp unlock 2024,samsung frp,samsung frp bypass android 13 2024,samsung frp bypass *#0*# not working,samsung frp bypass android 14,samsung frp bypass android 13,samsung frp remove\",\n",
       "  'Summary': 'Fail'},\n",
       " {'Type': 'youtube',\n",
       "  'Link': 'https://www.youtube.com/watch?v=Cg9WSahD4B4',\n",
       "  'Published at': '2024-09-16T15:59:53Z',\n",
       "  'Title': 'Samsung KG & MDM Reset | Restore imei ,Erase FRP,Format Safe Bootloader Unlock TSM Tool One Click',\n",
       "  'Short description': 'Samsung KG & MDM Reset | Restore imei ,Erase FRP,Format Safe Bootloader Unlock TSM Tool One Click Without Box or Dongle Life Time FREE GCT Team. \\n\\nTSM Tool is Powerful GSM Software Tool You can easily Unlock and Flash Your Own Any Android Mobile devices without Box. \\n\\nFor More information Watch full video To Get \\n\\nSupported Modules:\\nSamsung Galaxy Full Supported. \\nOppo \\nVivo\\nHuawei \\nXiaomi \\nTecno \\nInfinix \\nLenovo \\nWiko\\nEtc Android Mobile devices Supported TSM Tool.\\n\\nTSM Tool Features:\\nFactory Reset without Data Lose. \\nErase frp Lock. \\nBootloader Unlock \\nRelock Bootloader \\nRestore Orange state error \\nRepair Original imei number if Null.\\nFlashing Qualcomm, MTK Hissilicon CPU Type Android Mobile devices. \\nEtc features available in TSM Tool. \\n\\n\\n#androidbypass #kglock #mdmunlock #frpbypass #imeirepair #factoryreset #bunertech #cracked #frptool #flashing',\n",
       "  'Summary': 'Fail'}]"
      ]
     },
     "execution_count": 19,
     "metadata": {},
     "output_type": "execute_result"
    }
   ],
   "source": [
    "data"
   ]
  },
  {
   "cell_type": "code",
   "execution_count": 20,
   "metadata": {},
   "outputs": [],
   "source": [
    "import pandas as pd\n",
    "import os\n",
    "from datetime import datetime\n",
    "from openpyxl import load_workbook\n",
    "try:\n",
    "    today = datetime.today().date()\n",
    "    df = pd.DataFrame(data)\n",
    "\n",
    "    file_path = f'..//output//output_{today}.xlsx'\n",
    "    sheet_name = f'youtube_{today}'\n",
    "\n",
    "    if os.path.exists(file_path):\n",
    "        with pd.ExcelWriter(file_path, engine='openpyxl', mode='a', if_sheet_exists='new') as writer:\n",
    "            if sheet_name in writer.book.sheetnames:\n",
    "            # Xóa sheet cũ\n",
    "                writer.book.remove(writer.book[sheet_name])\n",
    "            df.to_excel(writer, sheet_name=sheet_name, index=False)\n",
    "    else:\n",
    "        with pd.ExcelWriter(file_path, engine='openpyxl') as writer:\n",
    "            df.to_excel(writer, sheet_name=sheet_name, index=False)\n",
    "\n",
    "    logger.info(f'Export {len(data)} data successful')\n",
    "except Exception as e:\n",
    "    logger.error(f\"Save data fail: {e}\")"
   ]
  },
  {
   "cell_type": "markdown",
   "metadata": {},
   "source": [
    "query\"\n",
    "(\"Samsung Knox Guard\" OR \"Samsung MDM\" OR \"Samsung KG\") AND (\"unlock\" OR \"unfasten\" OR \"unbolt\" OR \"open\" OR \"release\" OR \"unlatch\" OR \"disengage\" OR \"free\" OR \"unseal\" OR \"uncover\" OR \"access\") AND (\"bypass\" OR \"circumvent\" OR \"avoid\" OR \"sidestep\" OR \"evade\" OR \"skip\" OR \"dodge\" OR \"work around\" OR \"ignore\" OR \"overcome\" OR \"elude\") AND (\"removal\" OR \"elimination\" OR \"deletion\" OR \"eradication\" OR \"extraction\" OR \"withdrawal\" OR \"dismissal\" OR \"expulsion\" OR \"displacement\" OR \"ouster\" OR \"exclusion\") AND (\"tool\" OR \"software\" OR \"method\" OR \"technique\" OR \"unlocker\" OR \"key generator\" OR \"exploit\" OR \"vulnerability\" OR \"APK\") AND (\"ADB\" OR \"flash firmware\") AND (\"guide\" OR \"tutorial\" OR \"step-by-step\" OR \"how-to\") AND (\"legal\" OR \"issues\" OR \"compatibility\" OR \"support\") AND (\"community forums\" OR \"troubleshooting\") AND (\"2024\" OR \"updated methods\") AND (\"Galaxy S-series\" OR \"Note-series\" OR \"latest security patch\") AND (date:2024-08)\n",
    "\n",
    "32 words only for google search:\n",
    "(\"Samsung Knox Guard\" OR \"Samsung MDM\" OR \"Samsung KG\") AND (\"unlock\" OR \"bypass\" OR \"removal\") AND (\"tool\" OR \"method\" OR \"software\" OR \"guide\") AND (\"August 2024\" OR \"latest update\")\n"
   ]
  }
 ],
 "metadata": {
  "kernelspec": {
   "display_name": "Python 3",
   "language": "python",
   "name": "python3"
  },
  "language_info": {
   "codemirror_mode": {
    "name": "ipython",
    "version": 3
   },
   "file_extension": ".py",
   "mimetype": "text/x-python",
   "name": "python",
   "nbconvert_exporter": "python",
   "pygments_lexer": "ipython3",
   "version": "3.12.4"
  }
 },
 "nbformat": 4,
 "nbformat_minor": 2
}
