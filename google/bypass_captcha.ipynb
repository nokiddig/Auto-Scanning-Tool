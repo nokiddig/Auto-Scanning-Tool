{
 "cells": [
  {
   "cell_type": "code",
   "execution_count": 1,
   "metadata": {},
   "outputs": [],
   "source": [
    "# Auto Scanning Tool for Google version 1.0.1\n",
    "# This current version is designed to optimaze search in countries that Samsung supports in Africa and Thailand.\n",
    "\n",
    "#####################################################\n",
    "##################### LIBRARIES #####################\n",
    "#####################################################\n",
    "\n",
    "from datetime import datetime\n",
    "from datetime import timedelta\n",
    "import pandas as pd\n",
    "import os\n",
    "import time\n",
    "import random\n",
    "import importlib.util\n",
    "from selenium.common.exceptions import NoSuchElementException\n",
    "from selenium.webdriver.common.by import By\n",
    "from selenium.webdriver.common.action_chains import ActionChains\n",
    "from selenium.webdriver.common.keys import Keys\n",
    "from selenium import webdriver\n",
    "import requests\n",
    "from langdetect import detect\n",
    "\n",
    "############################################################\n",
    "##################### GLOBAL VARIABLES #####################\n",
    "############################################################\n",
    "\n",
    "# List to store the links found during the search.\n",
    "google_links = []\n",
    "\n",
    "# Global variables to store the web driver module and instance.\n",
    "driver_module = None\n",
    "driver = None\n",
    "\n",
    "# List to store the data to be stored in the Excel file.\n",
    "excel_data = []\n",
    "\n",
    "#####################################################\n",
    "##################### FUNCTIONS #####################\n",
    "#####################################################\n",
    "\n",
    "# Import common logger module to log the progress of the script.\n",
    "with open('../common/logger.py') as f:\n",
    "    exec(f.read())\n",
    "logger = get_logger(name='google')\n",
    "logger.info('Start crawl multi-country google')\n",
    "\n",
    "# Description: Import web driver module to control the browser and perform the search on Google.\n",
    "# Input parameters:\n",
    "# module_name: Name of the module to be imported.\n",
    "# file_name: Path to the module file.\n",
    "def get_module(module_name, file_name):\n",
    "    name = file_name.split('.')[0]\n",
    "\n",
    "    module_path = os.path.join(os.getcwd(), '..', module_name, file_name)\n",
    "    spec = importlib.util.spec_from_file_location(name, module_path)\n",
    "    module = importlib.util.module_from_spec(spec)\n",
    "    spec.loader.exec_module(module)\n",
    "    return module\n",
    "\n",
    "\n",
    "# Get translate function from translate module.\n",
    "translate_module = get_module('common', 'translate_api.py')\n",
    "translate_using_api = translate_module.translate_using_api\n",
    "\n",
    "# Import multi-lang input module to get the list of countries, languages, inputs, country codes.\n",
    "multilang_input_module = get_module('internal', 'multi_language_input.py')\n",
    "COUNTRIES = multilang_input_module.COUNTRIES\n",
    "LANGUAGES = multilang_input_module.LANGUAGES\n",
    "INPUTS = multilang_input_module.INPUTS\n",
    "COUNTRY_CODES = multilang_input_module.COUNTRY_CODES\n",
    "LANGUAGES_CODES = multilang_input_module.LANGUAGES_CODES\n",
    "\n",
    "# Get the web driver module and create a driver instance to control the browser.\n",
    "driver_module = get_module('common', 'web_driver.py')\n",
    "get_driver = driver_module.get_driver\n",
    "driver = get_driver()"
   ]
  },
  {
   "cell_type": "code",
   "execution_count": 2,
   "metadata": {},
   "outputs": [],
   "source": [
    "driver.get(\"https://www.google.com/recaptcha/api2/demo\")"
   ]
  },
  {
   "cell_type": "code",
   "execution_count": 3,
   "metadata": {},
   "outputs": [],
   "source": [
    "iframe = driver.find_element(By.XPATH, '//iframe[@title=\"reCAPTCHA\"]')\n",
    "driver.switch_to.frame(iframe)\n",
    "\n",
    "driver.find_element(By.CLASS_NAME, 'recaptcha-checkbox-border').click()\n",
    "driver.implicitly_wait(5)"
   ]
  },
  {
   "cell_type": "code",
   "execution_count": 4,
   "metadata": {},
   "outputs": [
    {
     "data": {
      "text/plain": [
       "True"
      ]
     },
     "execution_count": 4,
     "metadata": {},
     "output_type": "execute_result"
    }
   ],
   "source": [
    "driver.save_screenshot(\"ss.png\")"
   ]
  },
  {
   "cell_type": "code",
   "execution_count": 5,
   "metadata": {},
   "outputs": [
    {
     "name": "stdout",
     "output_type": "stream",
     "text": [
      "Kích thước cửa sổ: {'width': 1552, 'height': 849}\n"
     ]
    }
   ],
   "source": [
    "#x:332 y:512\n",
    "# Lấy kích thước trình duyệt để đảm bảo tọa độ hợp lệ\n",
    "window_size = driver.get_window_size()\n",
    "print(\"Kích thước cửa sổ:\", window_size)\n",
    "\n",
    "# Tạo chuỗi hành động click vào tọa độ (332, 512)\n",
    "actions = ActionChains(driver)\n",
    "actions.move_by_offset(332, 512).click().perform()\n"
   ]
  },
  {
   "cell_type": "code",
   "execution_count": 6,
   "metadata": {},
   "outputs": [
    {
     "name": "stdout",
     "output_type": "stream",
     "text": [
      "Kích thước cửa sổ: {'width': 1552, 'height': 849}\n"
     ]
    }
   ],
   "source": [
    "#x:332 y:512\n",
    "# Lấy kích thước trình duyệt để đảm bảo tọa độ hợp lệ\n",
    "window_size = driver.get_window_size()\n",
    "print(\"Kích thước cửa sổ:\", window_size)\n",
    "\n",
    "# Tạo chuỗi hành động click vào tọa độ (332, 512)\n",
    "actions = ActionChains(driver)\n",
    "actions.move_by_offset(100, 100).click().perform()"
   ]
  }
 ],
 "metadata": {
  "kernelspec": {
   "display_name": "Python 3",
   "language": "python",
   "name": "python3"
  },
  "language_info": {
   "codemirror_mode": {
    "name": "ipython",
    "version": 3
   },
   "file_extension": ".py",
   "mimetype": "text/x-python",
   "name": "python",
   "nbconvert_exporter": "python",
   "pygments_lexer": "ipython3",
   "version": "3.12.5"
  }
 },
 "nbformat": 4,
 "nbformat_minor": 2
}
