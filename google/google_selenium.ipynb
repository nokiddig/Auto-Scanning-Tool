{
 "cells": [
  {
   "cell_type": "markdown",
   "metadata": {},
   "source": [
    "### Logger"
   ]
  },
  {
   "cell_type": "code",
   "execution_count": 89,
   "metadata": {},
   "outputs": [],
   "source": [
    "with open('../common/logger.py') as f:\n",
    "    exec(f.read())\n",
    "\n",
    "logger = get_logger(name='google')\n",
    "logger.info('Start crawl google')"
   ]
  },
  {
   "cell_type": "markdown",
   "metadata": {},
   "source": [
    "### Import"
   ]
  },
  {
   "cell_type": "code",
   "execution_count": 90,
   "metadata": {},
   "outputs": [],
   "source": [
    "from selenium import webdriver\n",
    "from selenium.webdriver.common.keys import Keys\n",
    "from selenium.webdriver.common.by import By\n",
    "from selenium.common.exceptions import NoSuchElementException\n",
    "import importlib.util\n",
    "import os"
   ]
  },
  {
   "cell_type": "code",
   "execution_count": 91,
   "metadata": {},
   "outputs": [],
   "source": [
    "def get_module(module_name, file_name):\n",
    "    name = file_name.split('.')[0]\n",
    "\n",
    "    module_path = os.path.join(os.getcwd(), '..', module_name, file_name)\n",
    "    spec = importlib.util.spec_from_file_location(name, module_path)\n",
    "    module = importlib.util.module_from_spec(spec)\n",
    "    spec.loader.exec_module(module)\n",
    "    return module"
   ]
  },
  {
   "cell_type": "code",
   "execution_count": 92,
   "metadata": {},
   "outputs": [],
   "source": [
    "driver_module = get_module('common', 'web_driver.py')\n",
    "get_driver = driver_module.get_driver"
   ]
  },
  {
   "cell_type": "markdown",
   "metadata": {},
   "source": [
    "### Init driver"
   ]
  },
  {
   "cell_type": "code",
   "execution_count": 93,
   "metadata": {},
   "outputs": [],
   "source": [
    "driver = get_driver()"
   ]
  },
  {
   "cell_type": "markdown",
   "metadata": {},
   "source": [
    "### Find element"
   ]
  },
  {
   "cell_type": "code",
   "execution_count": 94,
   "metadata": {},
   "outputs": [],
   "source": [
    "TAT_CA_CAC_TU = 'samsung'\n",
    "CUM_TU_CHINH_XAC = '\"bypass KNOX\" OR \"bypass samsung\"' # chua 1 trong cac cum tu\n",
    "BAT_KY_TU_NAO = 'KNOX KG hack bypass attack' # chưa 1 trong cac tu nay\n",
    "KHONG_TU_NAO = ''"
   ]
  },
  {
   "cell_type": "code",
   "execution_count": 95,
   "metadata": {},
   "outputs": [],
   "source": [
    "try:\n",
    "    driver.get(\"https://www.google.com/advanced_search\")\n",
    "\n",
    "    #setup rule\n",
    "    elem = driver.find_element(By.ID, \"xX4UFf\")\n",
    "    elem.clear()\n",
    "    elem.send_keys(TAT_CA_CAC_TU)\n",
    "\n",
    "    elem = driver.find_element(By.ID, \"CwYCWc\")\n",
    "    elem.clear()\n",
    "    elem.send_keys(CUM_TU_CHINH_XAC)\n",
    "\n",
    "    elem = driver.find_element(By.ID, \"mSoczb\")\n",
    "    elem.clear()\n",
    "    elem.send_keys(BAT_KY_TU_NAO)\n",
    "\n",
    "    elem = driver.find_element(By.ID, \"t2dX1c\")\n",
    "    elem.clear()\n",
    "    elem.send_keys(KHONG_TU_NAO)\n",
    "    \n",
    "    elem = driver.find_element(By.ID, \"xX4UFf\")\n",
    "    elem.send_keys(Keys.ENTER)\n",
    "except Exception as e:\n",
    "    logger.error(f'Selenium google search advanced: {e}')"
   ]
  },
  {
   "cell_type": "code",
   "execution_count": 96,
   "metadata": {},
   "outputs": [],
   "source": [
    "try:\n",
    "    # Chon Website only\n",
    "    try:\n",
    "        elem = driver.find_element(By.XPATH, \"//div[@class='YmvwI1' or contains(text(), 'Web')]\")\n",
    "        # Tim thay\n",
    "        elem.click()\n",
    "        logger.info('Click option website')\n",
    "    except NoSuchElementException:\n",
    "        # Them -> Chon website only\n",
    "        logger.info(\"Chua tim thay website only -> chon: them option\")\n",
    "        elem = driver.find_element(By.XPATH, \"//div[@class='Lu57id']\")\n",
    "        elem.click()\n",
    "        elem = driver.find_element(By.XPATH, \"//div[@class='YmvwI' and contains(text(), 'Web')]\")\n",
    "        elem.click()\n",
    "\n",
    "    # open filter\n",
    "    elem = driver.find_element(By.XPATH, \"//div[@class='BaegVc YmvwI' and contains(text(), 'Công cụ')]\")\n",
    "    elem.click()\n",
    "\n",
    "    # filter date time\n",
    "    elem = driver.find_element(By.XPATH, \"//div[@class='KTBKoe' and (contains(text(), 'Mọi lúc') or contains(text(), 'Any time')) ]\")\n",
    "    elem.click()\n",
    "\n",
    "    elem = driver.find_element(By.XPATH, \"//a[(contains(text(), 'Tuần qua') or contains(text(), 'Past week'))]\")\n",
    "    elem.click()\n",
    "except Exception as e:\n",
    "    logger.error(f'Selenium google advanced search result: {e}')"
   ]
  },
  {
   "cell_type": "code",
   "execution_count": 97,
   "metadata": {},
   "outputs": [],
   "source": [
    "google_links = []\n",
    "list_ignore = ['youtube.com']\n",
    "try:\n",
    "    while(1):\n",
    "        elem = driver.find_elements(By.CSS_SELECTOR, 'div.g')\n",
    "        for e in elem:\n",
    "            title       = e.find_element(By.TAG_NAME, 'h3').text\n",
    "            link        = e.find_element(By.TAG_NAME, 'a').get_attribute(\"href\")\n",
    "            elem        = e.find_elements(By.TAG_NAME, 'span')\n",
    "            website     = elem[2].text \n",
    "            elem        = e.find_element(By.TAG_NAME, 'div')\n",
    "            elem        = elem.find_elements(By.TAG_NAME, 'div')\n",
    "            description = elem[-2].text\n",
    "            if all(ignore not in link for ignore in list_ignore):\n",
    "                google_links.append({'title': title, 'link': link, 'description': description, 'website': website})\n",
    "\n",
    "        # next page    \n",
    "        elem = driver.find_element(By.ID, \"pnnext\")\n",
    "        elem.click()\n",
    "\n",
    "except NoSuchElementException:\n",
    "    logger.info('Searched all pages!')\n",
    "except Exception as e:\n",
    "    logger.info(f'Selenium search result many pages: {e}')"
   ]
  },
  {
   "cell_type": "code",
   "execution_count": 98,
   "metadata": {},
   "outputs": [
    {
     "data": {
      "text/plain": [
       "[{'title': 'How To Remove or Bypass Knox Enrollment Service - Dr.Fone',\n",
       "  'link': 'https://drfone.wondershare.com/android-unlock/bypass-knox-enrollment-service.html',\n",
       "  'description': '6 ngày trước — This step-by-step guide provides comprehensive instructions on how to remove or bypass Knox Enrollment Service from your Samsung device, ensuring a seamless ...',\n",
       "  'website': 'Dr.Fone'},\n",
       " {'title': 'unlock bypass Knox Cloud/KG locked /... - Mobile Solution ...',\n",
       "  'link': 'https://www.facebook.com/story.php/?story_fbid=1106467397674918&id=100049350053219',\n",
       "  'description': '2 ngày trước — unlock bypass Knox Cloud/KG locked / MDM lock / Google account FRP lock Samsung Galaxy Xcover Pro SM-G715U1 G715U G715A G715W G715FN Android 12 Android...',\n",
       "  'website': 'Facebook'},\n",
       " {'title': 'Unlock Samsung Knox Security',\n",
       "  'link': 'https://www.tiktok.com/discover/unlock-samsung-knox-security',\n",
       "  'description': '4 ngày trước — Just go to find My Mobile Samsung com. and log into your Samsung account. Select your device. and you will see the option to unlock the device. Know that this ...',\n",
       "  'website': 'TikTok'},\n",
       " {'title': '9 Ways to Bypass Samsung Lock Screen without Data Loss',\n",
       "  'link': 'https://drfone.wondershare.com/unlock/9-ways-to-bypass-samsung-lock-screen-pattern-pin-password-fingerprint.html',\n",
       "  'description': \"7 ngày trước — [Video Guide] Bypass Samsung Lock Screen without Losing Data · Method 1. Unlock Samsung Lock Screen in Minutes · Method 2. Use the 'Find My Mobile' feature on ...\",\n",
       "  'website': 'Dr.Fone'},\n",
       " {'title': 'What is Knox Enrollment Service | KME Setup & Bypass',\n",
       "  'link': 'https://www.airdroid.com/mdm/knox-enrollment-service/',\n",
       "  'description': '7 ngày trước — Method 2: Using Third-Party Tools. Some third-party tools claim they can bypass Knox lock(often use technology that forcibly trigger a factory reset), which may ...',\n",
       "  'website': 'AirDroid'},\n",
       " {'title': 'Bypass Knox Enrollment Xcover Pro',\n",
       "  'link': 'https://www.tiktok.com/discover/bypass-knox-enrollment-xcover-pro',\n",
       "  'description': '4 ngày trước — Samsung Frp Bypass Android Tricks 2023 · How to Bypass Google Locked Samsung Galaxy A35 · How to Bypass Samsung A54 Google Account After Factory Reset · Frp ...',\n",
       "  'website': 'TikTok'},\n",
       " {'title': 'frp bypass samsung galaxy a51 #pacific #frp #world #frpシ ...',\n",
       "  'link': 'https://www.tiktok.com/@strittek/video/7419519030953823495',\n",
       "  'description': '6 ngày trước — 175 Likes, TikTok video from Strit Tek (@strittek): “frp bypass samsung galaxy a51 #pacific #frp #world #frpシ #samsung #galaxya51”. frp bypass samsung ...',\n",
       "  'website': 'TikTok'},\n",
       " {'title': 'FIX YOUR PHONE',\n",
       "  'link': 'https://www.facebook.com/nguyenthanhnhut15/?locale=he_IL',\n",
       "  'description': '5 ngày trước — All SAMSUNG 2020 FRP/Google Lock Bypass Android 9 WITHOUT PC/NO SIM 05 ... How to Remove and Bypass Samsung A80 Android 10 Screen lock Easy/Cách xóa ...',\n",
       "  'website': 'Facebook'},\n",
       " {'title': 'MSTEffects: FRP Bypass | Google Unlock | Hard Reset | FRP ...',\n",
       "  'link': 'https://msteffects.com/',\n",
       "  'description': '3 ngày trước — S24 Ultra Hard Reset (How to Hard Reset Samsung Galaxy s24) ... Samsung A31 FRP Bypass / Google Account Bypass- Samsung A33/A32 FRP Unlock Without PC.',\n",
       "  'website': 'msteffects.com'},\n",
       " {'title': 'ChimeraTool download',\n",
       "  'link': 'https://chimeratool.com/en/download',\n",
       "  'description': '6 giờ trước — The following Samsung procedures are affected via ADB: Read Codes for Samsung Exynos devices; Read Codes for Samsung Qualcomm devices; Network Factory Reset ...',\n",
       "  'website': 'ChimeraTool'},\n",
       " {'title': '(2024) – Samsung j2 Core FRP Bypass - NO PC NEEDED',\n",
       "  'link': 'https://www.facebook.com/100091646223064/videos/2024-samsung-j2-core-frp-bypass-no-pc-needed-j2-core-frp-bypass-/1621135025101015/',\n",
       "  'description': '5 ngày trước — Audience Searches :- samsung j2 core frp bypass samsung j2 core frp unlock samsung j2 core frp bypass without pc samsung sm j260 frp bypass samsung j260f frp ...',\n",
       "  'website': 'Facebook'},\n",
       " {'title': 'News & Updates - Clan GSM',\n",
       "  'link': 'https://www.clangsm.com.br/profile/358477-news-updates/',\n",
       "  'description': \"11 giờ trước — ... (bypass). - Mi Account Reset without Relock - Mi Account Patch on Flashing (EDL ... Samsung Improvements We've added the Network Factory Reset (Online) ...\",\n",
       "  'website': 'clangsm.com.br'},\n",
       " {'title': 'Smartphone Solutions - TeamZiba',\n",
       "  'link': 'https://www.teamziba.com/smartphone-solutions/',\n",
       "  'description': '2 ngày trước — Bypass Samsung A20 FRP Lock 100% Working Method Requirements: 1. Samsung A20 device with FRP… All INFINIX Hot 12 Play (x6816) FRP Bypass – Google Account ...',\n",
       "  'website': 'teamziba.com'},\n",
       " {'title': 'MIUI EDL Cable, will it work with my Samsung S20?',\n",
       "  'link': 'https://www.reddit.com/r/FRPbypassSamsung/comments/1fve40h/miui_edl_cable_will_it_work_with_my_samsung_s20/',\n",
       "  'description': '11 giờ trước — Community Info Section. r/FRPbypassSamsung. Join. FRP bypass Samsung 2023. FRP bypass Samsung. Show more. 399 Members. 1 Online. Top 31% Rank by size. More ...',\n",
       "  'website': 'Reddit'},\n",
       " {'title': 'Remove KG Locked Samsung ZFlod 5 #F946U1 ...',\n",
       "  'link': 'https://www.tiktok.com/@tangbuol/video/7419386184381500689',\n",
       "  'description': '6 ngày trước — Video TikTok từ Buol Mobile (@tangbuol): \"Remove KG Locked Samsung ZFlod 5 #F946U1 #knoxF946U #removeKGSamsung\".现在的我（还在一个人过） - 刘大壮.',\n",
       "  'website': 'TikTok - Make Your Day'},\n",
       " {'title': 'iToolab UnlockGo 7.2.0 Crack + Registration Code [2024] ...',\n",
       "  'link': 'https://www.honor.com/uk/club/topicdetail/itoolab-unlockgo-7-2-0-crack-registration-code-2024-latest/topicid-3623543472979969/',\n",
       "  'description': '2 ngày trước — Bypass Samsung FRP, remove Google/PIN verification up to Android 14/15.Completely bypass FRP on Honor, Xiaomi, Redmi, vivo, OPPO, Motorola, Realme. Unlock ...',\n",
       "  'website': 'HONOR'},\n",
       " {'title': 'Remove reactivation lock hotsell gear s2 without phone',\n",
       "  'link': 'https://iandoescher.com/?i=444334914',\n",
       "  'description': '4,8\\n(1.019) · 59,00 US$ · Còn hàng',\n",
       "  'website': 'iandoescher.com'},\n",
       " {'title': 'How to Quickly Unlock Samsung Phone If You Forgot ...',\n",
       "  'link': 'https://mspoweruser.com/how-to-unlock-samsung-phone-if-you-forgot-password/',\n",
       "  'description': '7 ngày trước — The software can also bypass Samsung FRP lock without needing a password or Google account, making it a versatile tool for Samsung device owners.',\n",
       "  'website': 'MSPoweruser'},\n",
       " {'title': 'Black Box V1.0 – Free FRP Bypass & MDM Removal Tool',\n",
       "  'link': 'https://gsmofficialteam.com/black-box-tool/',\n",
       "  'description': '5 ngày trước — Samsung FRP #0# Mode: This mode allows users to bypass Samsung FRP locks with ease. Xiaomi FRP Assistant Mode: Bypass Google account verification on various ...',\n",
       "  'website': 'gsmofficialteam.com'},\n",
       " {'title': 'Can anyone help with a galaxy s23 ultra. Says ...',\n",
       "  'link': 'https://www.reddit.com/r/FRPbypassSamsung/comments/1fuyqie/can_anyone_help_with_a_galaxy_s23_ultra_says/',\n",
       "  'description': '1 ngày trước — 398 subscribers in the FRPbypassSamsung community. FRP bypass Samsung.',\n",
       "  'website': 'Reddit'},\n",
       " {'title': 'Wondershare Dr.Fone | Silent unknown callers #fyp # ...',\n",
       "  'link': 'https://www.instagram.com/wondershare_dr.fone/reel/DAasN6pBcCO/',\n",
       "  'description': '7 ngày trước — Unlock Samsung phone if you forgot the password—no data loss! Bypass Samsung lock screen without factory reset. Remove pattern locks safely and keep your ...',\n",
       "  'website': 'Instagram'},\n",
       " {'title': 'Result Page 3 for Android 13 news ...',\n",
       "  'link': 'https://www.techtimes.com/tags/android-13/page3.htm',\n",
       "  'description': '7 ngày trước — Android 13. Easy Way to Bypass Samsung FRP (Android 5~12) · Tech · Android Beta 13.2.1 Now Available: Bug Fix for Pixel and MORE. Google released the beta for ...',\n",
       "  'website': 'Tech Times'},\n",
       " {'title': 'UnlockGo (Android) 7.8.0',\n",
       "  'link': 'https://www.torrentmac.net/unlockgo-android-7-8-0/',\n",
       "  'description': '5 ngày trước — Features : Bypass Samsung FRP, remove Google/PIN verification up to Android 12/13. ... Unlock Android phones/tablets without password, pattern, PIN, fingerprints, ...',\n",
       "  'website': 'Mac Torrents'},\n",
       " {'title': 'How To Bypass Google Play Protect 2024',\n",
       "  'link': 'https://www.namasha.com/v/eeRbiWRD/How_To_Bypass_Google_Play_Protect_2024',\n",
       "  'description': '5 ngày trước — CraxsRAT Bypass Samsung Security بعدا می\\u200cبینم ۰۲:۴۰. CraxsRAT Bypass ... CraxsRAT Method Bypass Samsung McAfee Security بعدا می\\u200cبینم ۰۲:۱۱. CraxsRAT ...',\n",
       "  'website': 'نماشا'},\n",
       " {'title': 'Contact Us',\n",
       "  'link': 'https://www.gsmyemen.com/contactus',\n",
       "  'description': '3 ngày trước — SAMSUNG USA - (ATT & SPECTRUM ) NCK ONLY SAMSUNG USA - (AT&T & SPECTRUM) NCK ONLY LUHELLO IOS 16 LPRO BYPASS (HELLO SCREEN) LPRO BYPASS PASSCODE ; IRemove Tool ...',\n",
       "  'website': ''},\n",
       " {'title': 'Solved! Easy Guide for iCloud Bypass iOS 18',\n",
       "  'link': 'https://www.passfab.com/unlock/bypass-ios-18.html',\n",
       "  'description': '7 ngày trước — PassFab iPhone UnlockHot. Remove various types of lock screens for iphone · PassFab Android Unlock. Bypass Samsung FRP & Android screen · PassFab Activation ...',\n",
       "  'website': 'PassFab'},\n",
       " {'title': 'frp removal in All Categories in Toronto (GTA)',\n",
       "  'link': 'https://www.kijiji.ca/b-gta-greater-toronto-area/frp-removal/k0l1700272',\n",
       "  'description': '4 ngày trước — Google lock removal, FRP and Samsung & phone lock removal. Samsung Account FRP Google Bypass MDM SAMSUNG IPHONES HUAWEI GOOGLE NEXUS SONY ...',\n",
       "  'website': 'Kijiji'},\n",
       " {'title': 'Video Vqi90042',\n",
       "  'link': 'https://www.dailymotion.com/vqi90042?sort=visited',\n",
       "  'description': '5 ngày trước — bypass samsung google account lock frp J1 J2 J3 J5 J7, A3 A5 A7 A8 A9,, S6, S7, EDGE, NOTE. 7 năm trước. 4:32. bypass samsung go J3 J5 J7, A3 A5 A7 A8 A9,, ...',\n",
       "  'website': 'Dailymotion'},\n",
       " {'title': 'Ayuda - bypass de kg samsung a24 bit 3',\n",
       "  'link': 'https://hostingunlock.com/threads/bypass-de-kg-samsung-a24-bit-3.74357/latest',\n",
       "  'description': '4 giờ trước — Iniciador del tema servergsm; Fecha de inicio hace 7 minutos; Respuestas 0; Visitas 2; Respuestas 0; Visitas 2. Etiquetas: bit 3 bypass samsung samsung a24 ...',\n",
       "  'website': 'Hosting Unlock Repair Expertos'},\n",
       " {'title': 'How to Remove Swipe Screen to Unlock',\n",
       "  'link': 'https://www.coolmuster.com/android/bypass-swipe-screen-to-unlock-android.html',\n",
       "  'description': '7 ngày trước — Bypass Samsung FRP lock without a Google account or PIN code. Easy to handle without tech knowledge. Work with most Android devices, including Samsung Galaxy ...',\n",
       "  'website': 'Coolmuster'},\n",
       " {'title': 'How-to Tutorials',\n",
       "  'link': 'https://itoolab.com/how-to/?srsltid=AfmBOoqwibqlBgN7RAGXkvFay81ZzQBgSsl8zwn45p177-R6db71cEB4',\n",
       "  'description': '10 giờ trước — UnlockGo - iPhone Unlocker Unlock iPhone & bypass iCloud. unlockgo android. UnlockGo - Android Screen Unlocker Bypass Samsung FRP and unlock Android screen.',\n",
       "  'website': 'iToolab'},\n",
       " {'title': 'Download Samsung Android USB Driver for Windows',\n",
       "  'link': 'https://bypassfrpfiles.com/2023/02/samsung-usb-driver/',\n",
       "  'description': '3 ngày trước — Bypassfrpfiles.com helps users with the best & latest process to Bypass FRP Google lock, Unlock Factory Reset Protection, FRP Tool, Pattern unlock tool, unlock, ...',\n",
       "  'website': 'bypassfrpfiles.com'},\n",
       " {'title': 'How to Remove Swipe Screen to Unlock',\n",
       "  'link': 'https://www.coolmuster.com/android/bypass-swipe-screen-to-unlock-android.html',\n",
       "  'description': '7 ngày trước — Bypass Samsung FRP lock without a Google account or PIN code. Easy to handle without tech knowledge. Work with most Android devices, including Samsung Galaxy ...',\n",
       "  'website': 'Coolmuster'},\n",
       " {'title': 'Download Samsung Android USB Driver for Windows',\n",
       "  'link': 'https://bypassfrpfiles.com/2023/02/samsung-usb-driver/',\n",
       "  'description': '3 ngày trước — Bypassfrpfiles.com helps users with the best & latest process to Bypass FRP Google lock, Unlock Factory Reset Protection, FRP Tool, Pattern unlock tool, unlock, ...',\n",
       "  'website': 'bypassfrpfiles.com'},\n",
       " {'title': '5 Popular Android Phone Unlocker of 2024',\n",
       "  'link': 'https://www.imyfone.com/unlock-android/5-popular-phone-unlocking-software/?srsltid=AfmBOoqReT0T7BLCRoCT3ovFA3jGyFWgPP-wXGXj0ON_Qt7JMrTxaedu',\n",
       "  'description': '7 ngày trước — iMyFone LockWiper (Android). 1-Click Android Phone Unlock Software. Remove all screen locks on your Android phone in 5 minutes. Bypass Google lock and FRP ...',\n",
       "  'website': 'iMyFone'},\n",
       " {'title': 'Aj Mobile Repairing',\n",
       "  'link': 'https://www.ajmobilerepairing.com/',\n",
       "  'description': '1 ngày trước — New Free Tool One click Unlock | Free Tool 2024 | oppo, vivo, samsung, Xiaomi, free unlock tool New Free Tool One click Unlock … ... frp bypass samsung (15) · mtk ...',\n",
       "  'website': 'Aj Mobile Repairing'},\n",
       " {'title': 'iPhone 16 Touch Screen Unresponsive? 8 Real ...',\n",
       "  'link': 'https://itoolab.com/fix/fixed-iphone-16-touch-screen-unresponsive/?srsltid=AfmBOooh32CA8hTmROMchCNB_AAYt1ji33oi-cd2HTUFeaGXpdJFgts6',\n",
       "  'description': '5 ngày trước — UnlockGo - iPhone Unlocker Unlock iPhone & bypass iCloud. unlockgo android. UnlockGo - Android Screen Unlocker Bypass Samsung FRP and unlock Android screen.',\n",
       "  'website': 'iToolab'},\n",
       " {'title': 'Chinese - Distrito gsm',\n",
       "  'link': 'https://distritogsm.com/?selectlanguage=Chinese&lcode=CN',\n",
       "  'description': '17 giờ trước — ... RESET FRP] SAMSUNG [KG LOCKED / MACRO PXY / PXY JOY] KG LOCKED BYPASS SAMSUNG FRP [INSTANT] · SAMSUNG JDM UNLOCK CPID SAMSUNG [OLD KEY] CPID IMEI REPAIR SAMSUNG ...',\n",
       "  'website': ''},\n",
       " {'title': 'X',\n",
       "  'link': 'https://easyunlocktech.com/?selectlanguage=German&lcode=DE',\n",
       "  'description': '20 giờ trước — Motorola Worldwide Factory Unlock Code ✓ IC Bypass Tool A12+ iPhone Bypass [Without ... Samsung Unlock CPID Sevices Tool ✓ SamKey ✓ SamPro Tool ✓ FRP TOOL ...',\n",
       "  'website': 'EasyUnlockTech'},\n",
       " {'title': 'MTK Auth Bypass Tool v156 [MTK Meta Android Utility] secure ...',\n",
       "  'link': 'https://bypassfrpfiles.com/2021/05/mtk-secure-boot-disable-tool/',\n",
       "  'description': '5 ngày trước — ... bypass boot protection & flash or unlock your phone through the SP flash tool for free. Also Check: Samsung FRP Tool Download to FRP Bypass Samsung. Download ...',\n",
       "  'website': 'bypassfrpfiles.com'}]"
      ]
     },
     "execution_count": 98,
     "metadata": {},
     "output_type": "execute_result"
    }
   ],
   "source": [
    "google_links"
   ]
  },
  {
   "cell_type": "markdown",
   "metadata": {},
   "source": [
    "### Save data"
   ]
  },
  {
   "cell_type": "code",
   "execution_count": 99,
   "metadata": {},
   "outputs": [],
   "source": [
    "COL_TYPE = 'Type'\n",
    "COL_LINK = 'Link'\n",
    "COL_TITLE = 'Title'\n",
    "COL_DES = 'Short description'\n",
    "COL_CONTENT = 'Web content'\n",
    "COL_SUMMARY = 'Summary'"
   ]
  },
  {
   "cell_type": "code",
   "execution_count": 100,
   "metadata": {},
   "outputs": [],
   "source": [
    "data = []\n",
    "\n",
    "for i, link in enumerate(google_links):\n",
    "    row = {\n",
    "        COL_TYPE:'google',\n",
    "        COL_LINK: link[\"link\"],\n",
    "        COL_TITLE: link[\"title\"],\n",
    "        COL_DES: link[\"description\"]\n",
    "    }\n",
    "    data.append(row)"
   ]
  },
  {
   "cell_type": "code",
   "execution_count": 101,
   "metadata": {},
   "outputs": [
    {
     "data": {
      "text/plain": [
       "40"
      ]
     },
     "execution_count": 101,
     "metadata": {},
     "output_type": "execute_result"
    }
   ],
   "source": [
    "len(google_links)"
   ]
  },
  {
   "cell_type": "code",
   "execution_count": 102,
   "metadata": {},
   "outputs": [],
   "source": [
    "import os\n",
    "import pandas as pd\n",
    "from datetime import datetime\n",
    "try:\n",
    "    today = datetime.today().date()\n",
    "    file_path = f'..//output//output_{today}.xlsx'\n",
    "    sheet_name = f'google_{today}'\n",
    "\n",
    "    columns = [COL_TYPE, COL_LINK, COL_TITLE, COL_DES]\n",
    "    df = pd.DataFrame(data, columns=columns)\n",
    "\n",
    "    # Check file exist, delete old sheet before add new sheet\n",
    "    if os.path.exists(file_path):\n",
    "        with pd.ExcelWriter(file_path, engine='openpyxl', mode='a', if_sheet_exists='new') as writer:\n",
    "            if sheet_name in writer.book.sheetnames:\n",
    "                writer.book.remove(writer.book[sheet_name])\n",
    "            df.to_excel(writer, sheet_name=sheet_name, index=False)\n",
    "    else:\n",
    "        with pd.ExcelWriter(file_path, engine='openpyxl') as writer:\n",
    "            df.to_excel(writer, sheet_name=sheet_name, index=False)\n",
    "\n",
    "    logger.info(f'Exported {len(data)} data successful')\n",
    "except Exception as e:\n",
    "    logger.error(f'Save data fail: {e}')"
   ]
  },
  {
   "cell_type": "code",
   "execution_count": 103,
   "metadata": {},
   "outputs": [
    {
     "ename": "SystemExit",
     "evalue": "",
     "output_type": "error",
     "traceback": [
      "An exception has occurred, use %tb to see the full traceback.\n",
      "\u001b[1;31mSystemExit\u001b[0m\n"
     ]
    },
    {
     "name": "stderr",
     "output_type": "stream",
     "text": [
      "c:\\Users\\vansy.le\\AppData\\Local\\Programs\\Python\\Python312\\Lib\\site-packages\\IPython\\core\\interactiveshell.py:3585: UserWarning: To exit: use 'exit', 'quit', or Ctrl-D.\n",
      "  warn(\"To exit: use 'exit', 'quit', or Ctrl-D.\", stacklevel=1)\n"
     ]
    }
   ],
   "source": [
    "import sys\n",
    "driver.quit()\n",
    "sys.exit()"
   ]
  },
  {
   "cell_type": "markdown",
   "metadata": {},
   "source": [
    "### GENAI"
   ]
  },
  {
   "cell_type": "code",
   "execution_count": null,
   "metadata": {},
   "outputs": [],
   "source": [
    "# import genai\n",
    "genai_module = get_module('common', 'genai.py')\n",
    "Genai = genai_module.Genai"
   ]
  },
  {
   "cell_type": "code",
   "execution_count": null,
   "metadata": {},
   "outputs": [
    {
     "name": "stdout",
     "output_type": "stream",
     "text": [
      "Error SSLError\n",
      "\n"
     ]
    }
   ],
   "source": [
    "import requests\n",
    "from bs4 import BeautifulSoup\n",
    "\n",
    "def get_webpage_content(url):\n",
    "    try:\n",
    "        # Lấy dữ liệu từ URL\n",
    "        response = requests.get(url)\n",
    "        # Sử dụng BeautifulSoup để phân tích cú pháp HTML\n",
    "        soup = BeautifulSoup(response.text, 'html.parser')\n",
    "        \n",
    "        # Lấy toàn bộ văn bản trong trang web\n",
    "        paragraphs = soup.find_all(['p', 'h1', 'h2', 'h3', 'h4', 'h5', 'b', 'i', 'u', 'span'])\n",
    "        text = '\\n'.join([para.get_text() for para in paragraphs])\n",
    "        \n",
    "        return text\n",
    "    except Exception as e:\n",
    "        logger.error('Genai get web content')\n",
    "        return \"\""
   ]
  },
  {
   "cell_type": "code",
   "execution_count": null,
   "metadata": {},
   "outputs": [
    {
     "name": "stdout",
     "output_type": "stream",
     "text": [
      "Open list conversation\n"
     ]
    }
   ],
   "source": [
    "genai = Genai()"
   ]
  },
  {
   "cell_type": "code",
   "execution_count": null,
   "metadata": {},
   "outputs": [],
   "source": [
    "# # summary\n",
    "# for row in data:\n",
    "#     content  = get_webpage_content(row[COL_LINK])\n",
    "#     summary  = genai.search(content)\n",
    "#     row[COL_CONTENT] = content\n",
    "#     row[COL_GENAI] = summary\n",
    "#     print(f'{row[COL_LINK]}')\n",
    "#     print(summary)\n",
    "#     print(\"-----------------------------\")"
   ]
  },
  {
   "cell_type": "markdown",
   "metadata": {},
   "source": [
    "### Save data"
   ]
  },
  {
   "cell_type": "code",
   "execution_count": null,
   "metadata": {},
   "outputs": [],
   "source": [
    "import pandas as pd\n",
    "import os\n",
    "from datetime import datetime\n",
    "\n",
    "try:\n",
    "    today = datetime.today().date()\n",
    "    file_path = f'..//output//output_{today}.xlsx'\n",
    "    sheet_name = f'gooogle_{today}'\n",
    "\n",
    "    columns = [COL_TYPE, COL_LINK, COL_TITLE, COL_DES, COL_CONTENT, COL_SUMMARY ]\n",
    "    df = pd.DataFrame(data, columns=columns)\n",
    "\n",
    "    # Check exist file \n",
    "    if os.path.exists(file_path):\n",
    "        with pd.ExcelWriter(file_path, engine='openpyxl', mode='a', if_sheet_exists='new') as writer:\n",
    "            df.to_excel(writer, sheet_name=sheet_name, index=False)\n",
    "    else:\n",
    "        with pd.ExcelWriter(file_path, engine='openpyxl', mode='w') as writer:\n",
    "            df.to_excel(writer, sheet_name=sheet_name, index=False)\n",
    "\n",
    "    logger.info(f'Exported {len(data)} data successful')\n",
    "except Exception as e:\n",
    "    logger.error(f'Save data fail: {e}')"
   ]
  }
 ],
 "metadata": {
  "kernelspec": {
   "display_name": "Python 3",
   "language": "python",
   "name": "python3"
  },
  "language_info": {
   "codemirror_mode": {
    "name": "ipython",
    "version": 3
   },
   "file_extension": ".py",
   "mimetype": "text/x-python",
   "name": "python",
   "nbconvert_exporter": "python",
   "pygments_lexer": "ipython3",
   "version": "3.12.4"
  }
 },
 "nbformat": 4,
 "nbformat_minor": 2
}
